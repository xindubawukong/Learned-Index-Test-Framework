{
 "cells": [
  {
   "cell_type": "markdown",
   "metadata": {},
   "source": [
    "# Viewing existing data\n",
    "\n",
    "This Jupyter notebook allows you to easily view any data you have *already* produced by running `run_testing.sh` or `run_production.sh`.\n",
    "\n",
    "Simply run the following code cell and peruse the displayed HTML site and/or data frame. Note that you can click on graphs to `drill down` into the data.\n",
    "\n",
    "(In general, you should manually inspect the `PNG` and `HTML` files in the `data` subfolder for full control.)"
   ]
  },
  {
   "cell_type": "code",
   "execution_count": null,
   "metadata": {},
   "outputs": [],
   "source": [
    "import sys ; sys.path.append('../../tools/data_framework') ; from run_experiment import *\n",
    "init_for_jupyter('_user_experiment.py')\n",
    "\n",
    "show_html('data/index.html')\n",
    "display(select_to_dataframe('select * from data'))"
   ]
  },
  {
   "cell_type": "code",
   "execution_count": null,
   "metadata": {},
   "outputs": [],
   "source": []
  },
  {
   "cell_type": "code",
   "execution_count": null,
   "metadata": {},
   "outputs": [],
   "source": [
    "import sys ; sys.path.append('../../tools/data_framework') ; from run_experiment import *\n",
    "init_for_jupyter('_user_experiment.py')\n",
    "\n",
    "shell_to_list('cat data/data000001.txt | grep summary | cut -d\" \" -f2- | tr -d \" \"', sep=',')"
   ]
  },
  {
   "cell_type": "code",
   "execution_count": null,
   "metadata": {},
   "outputs": [],
   "source": []
  },
  {
   "cell_type": "code",
   "execution_count": null,
   "metadata": {
    "tags": []
   },
   "outputs": [],
   "source": [
    "import sys ; sys.path.append('../../tools/data_framework') ; from run_experiment import *\n",
    "disable_tee_stdout()\n",
    "#enable_tee_stdout()\n",
    "do_all('_user_experiment.py -pw'.split(' '))\n",
    "show_html('data/index.html')\n"
   ]
  },
  {
   "cell_type": "code",
   "execution_count": null,
   "metadata": {},
   "outputs": [],
   "source": []
  }
 ],
 "metadata": {
  "language_info": {
   "codemirror_mode": {
    "name": "ipython",
    "version": 3
   },
   "file_extension": ".py",
   "mimetype": "text/x-python",
   "name": "python",
   "nbconvert_exporter": "python",
   "pygments_lexer": "ipython3",
   "version": 3
  },
  "orig_nbformat": 2,
  "kernelspec": {
   "name": "python_defaultSpec_1594565650751",
   "display_name": "Python 3.6.9 64-bit"
  }
 },
 "nbformat": 4,
 "nbformat_minor": 2
}