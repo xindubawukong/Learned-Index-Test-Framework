{
 "cells": [
  {
   "cell_type": "markdown",
   "metadata": {},
   "source": [
    "# Viewing existing data\n",
    "\n",
    "This Jupyter notebook allows you to easily view any data you have *already* produced by running `run_testing.sh` or `run_production.sh`.\n",
    "\n",
    "Simply run the following code cell and peruse the displayed HTML site and/or data frame. Note that you can click on graphs to `drill down` into the data.\n",
    "\n",
    "(In general, you should manually inspect the `PNG` and `HTML` files in the `data` subfolder for full control.)"
   ]
  },
  {
   "cell_type": "code",
   "execution_count": 1,
   "metadata": {},
   "outputs": [
    {
     "output_type": "display_data",
     "data": {
      "text/plain": "<IPython.core.display.HTML object>",
      "text/html": "<div style=\"height: 500px; width: 100%; overflow-x: auto; overflow-y: hidden; resize: both\"><iframe src=\"data/index.html\" style=\"width: 100%; height: 100%; border: none\"></iframe></div>"
     },
     "metadata": {}
    },
    {
     "output_type": "display_data",
     "data": {
      "text/plain": "   __id  __trials                                binary  zeta     rw_ratio  \\\n0     1         1   bin/rundb_YCSB_bronson_pext_bst_occ   0.1  -r0.9 -w0.1   \n1     2         1       bin/rundb_YCSB_brown_ext_ist_lf   0.1  -r0.9 -w0.1   \n2     3         1       bin/rundb_YCSB_brown_ext_ist_lf   0.1  -r0.9 -w0.1   \n3     4         1   bin/rundb_YCSB_bronson_pext_bst_occ   0.1  -r0.9 -w0.1   \n4     5         1    bin/rundb_YCSB_brown_ext_abtree_lf   0.1  -r0.9 -w0.1   \n5     6         1    bin/rundb_YCSB_brown_ext_abtree_lf   0.1  -r0.9 -w0.1   \n6     7         1  bin/rundb_YCSB_srivastava_abtree_occ   0.1  -r0.9 -w0.1   \n7     8         1  bin/rundb_YCSB_srivastava_abtree_occ   0.1  -r0.9 -w0.1   \n\n   init_size  thread_count thread_pinning timeout      alg  ...  faults_major  \\\n0   10014408            18     -pin 0-141   false  bronson  ...             1   \n1   10014408            18     -pin 0-141   false   istree  ...             0   \n2   10014408           142     -pin 0-141   false   istree  ...             0   \n3   10014408           142     -pin 0-141   false  bronson  ...             0   \n4   10014408           142     -pin 0-141   false   abtree  ...             0   \n5   10014408            18     -pin 0-141   false   abtree  ...             1   \n6   10014408            18     -pin 0-141   false      occ  ...             1   \n7   10014408           142     -pin 0-141   false      occ  ...             0   \n\n   faults_minor  mem_maxresident_kb  user_cputime  sys_cputime  percent_cpu  \\\n0       1233625             4937536        145.08         4.24         1576   \n1       2643299            10562400        114.35         9.94         1457   \n2       2882670            11522664        842.60        70.87        10537   \n3       2635708            10537200       1084.46        29.73        11115   \n4       2752706            11005320        827.96        32.09        10559   \n5       1318913             5278732         97.95         4.47         1484   \n6       1155217             4623820         95.26         3.75         1473   \n7       2573782            10289764        821.06        29.03        10461   \n\n   __hostname  __step     __file_data  \\\n0        zyra  000003  data000003.txt   \n1        zyra  000007  data000007.txt   \n2        zyra  000008  data000008.txt   \n3        zyra  000004  data000004.txt   \n4        zyra  000006  data000006.txt   \n5        zyra  000005  data000005.txt   \n6        zyra  000001  data000001.txt   \n7        zyra  000002  data000002.txt   \n\n                                           __cmd_run  \n0   ASAN_OPTIONS=new_delete_type_mismatch=0 LD_PR...  \n1   ASAN_OPTIONS=new_delete_type_mismatch=0 LD_PR...  \n2   ASAN_OPTIONS=new_delete_type_mismatch=0 LD_PR...  \n3   ASAN_OPTIONS=new_delete_type_mismatch=0 LD_PR...  \n4   ASAN_OPTIONS=new_delete_type_mismatch=0 LD_PR...  \n5   ASAN_OPTIONS=new_delete_type_mismatch=0 LD_PR...  \n6   ASAN_OPTIONS=new_delete_type_mismatch=0 LD_PR...  \n7   ASAN_OPTIONS=new_delete_type_mismatch=0 LD_PR...  \n\n[8 rows x 27 columns]",
      "text/html": "<div>\n<style scoped>\n    .dataframe tbody tr th:only-of-type {\n        vertical-align: middle;\n    }\n\n    .dataframe tbody tr th {\n        vertical-align: top;\n    }\n\n    .dataframe thead th {\n        text-align: right;\n    }\n</style>\n<table border=\"1\" class=\"dataframe\">\n  <thead>\n    <tr style=\"text-align: right;\">\n      <th></th>\n      <th>__id</th>\n      <th>__trials</th>\n      <th>binary</th>\n      <th>zeta</th>\n      <th>rw_ratio</th>\n      <th>init_size</th>\n      <th>thread_count</th>\n      <th>thread_pinning</th>\n      <th>timeout</th>\n      <th>alg</th>\n      <th>...</th>\n      <th>faults_major</th>\n      <th>faults_minor</th>\n      <th>mem_maxresident_kb</th>\n      <th>user_cputime</th>\n      <th>sys_cputime</th>\n      <th>percent_cpu</th>\n      <th>__hostname</th>\n      <th>__step</th>\n      <th>__file_data</th>\n      <th>__cmd_run</th>\n    </tr>\n  </thead>\n  <tbody>\n    <tr>\n      <th>0</th>\n      <td>1</td>\n      <td>1</td>\n      <td>bin/rundb_YCSB_bronson_pext_bst_occ</td>\n      <td>0.1</td>\n      <td>-r0.9 -w0.1</td>\n      <td>10014408</td>\n      <td>18</td>\n      <td>-pin 0-141</td>\n      <td>false</td>\n      <td>bronson</td>\n      <td>...</td>\n      <td>1</td>\n      <td>1233625</td>\n      <td>4937536</td>\n      <td>145.08</td>\n      <td>4.24</td>\n      <td>1576</td>\n      <td>zyra</td>\n      <td>000003</td>\n      <td>data000003.txt</td>\n      <td>ASAN_OPTIONS=new_delete_type_mismatch=0 LD_PR...</td>\n    </tr>\n    <tr>\n      <th>1</th>\n      <td>2</td>\n      <td>1</td>\n      <td>bin/rundb_YCSB_brown_ext_ist_lf</td>\n      <td>0.1</td>\n      <td>-r0.9 -w0.1</td>\n      <td>10014408</td>\n      <td>18</td>\n      <td>-pin 0-141</td>\n      <td>false</td>\n      <td>istree</td>\n      <td>...</td>\n      <td>0</td>\n      <td>2643299</td>\n      <td>10562400</td>\n      <td>114.35</td>\n      <td>9.94</td>\n      <td>1457</td>\n      <td>zyra</td>\n      <td>000007</td>\n      <td>data000007.txt</td>\n      <td>ASAN_OPTIONS=new_delete_type_mismatch=0 LD_PR...</td>\n    </tr>\n    <tr>\n      <th>2</th>\n      <td>3</td>\n      <td>1</td>\n      <td>bin/rundb_YCSB_brown_ext_ist_lf</td>\n      <td>0.1</td>\n      <td>-r0.9 -w0.1</td>\n      <td>10014408</td>\n      <td>142</td>\n      <td>-pin 0-141</td>\n      <td>false</td>\n      <td>istree</td>\n      <td>...</td>\n      <td>0</td>\n      <td>2882670</td>\n      <td>11522664</td>\n      <td>842.60</td>\n      <td>70.87</td>\n      <td>10537</td>\n      <td>zyra</td>\n      <td>000008</td>\n      <td>data000008.txt</td>\n      <td>ASAN_OPTIONS=new_delete_type_mismatch=0 LD_PR...</td>\n    </tr>\n    <tr>\n      <th>3</th>\n      <td>4</td>\n      <td>1</td>\n      <td>bin/rundb_YCSB_bronson_pext_bst_occ</td>\n      <td>0.1</td>\n      <td>-r0.9 -w0.1</td>\n      <td>10014408</td>\n      <td>142</td>\n      <td>-pin 0-141</td>\n      <td>false</td>\n      <td>bronson</td>\n      <td>...</td>\n      <td>0</td>\n      <td>2635708</td>\n      <td>10537200</td>\n      <td>1084.46</td>\n      <td>29.73</td>\n      <td>11115</td>\n      <td>zyra</td>\n      <td>000004</td>\n      <td>data000004.txt</td>\n      <td>ASAN_OPTIONS=new_delete_type_mismatch=0 LD_PR...</td>\n    </tr>\n    <tr>\n      <th>4</th>\n      <td>5</td>\n      <td>1</td>\n      <td>bin/rundb_YCSB_brown_ext_abtree_lf</td>\n      <td>0.1</td>\n      <td>-r0.9 -w0.1</td>\n      <td>10014408</td>\n      <td>142</td>\n      <td>-pin 0-141</td>\n      <td>false</td>\n      <td>abtree</td>\n      <td>...</td>\n      <td>0</td>\n      <td>2752706</td>\n      <td>11005320</td>\n      <td>827.96</td>\n      <td>32.09</td>\n      <td>10559</td>\n      <td>zyra</td>\n      <td>000006</td>\n      <td>data000006.txt</td>\n      <td>ASAN_OPTIONS=new_delete_type_mismatch=0 LD_PR...</td>\n    </tr>\n    <tr>\n      <th>5</th>\n      <td>6</td>\n      <td>1</td>\n      <td>bin/rundb_YCSB_brown_ext_abtree_lf</td>\n      <td>0.1</td>\n      <td>-r0.9 -w0.1</td>\n      <td>10014408</td>\n      <td>18</td>\n      <td>-pin 0-141</td>\n      <td>false</td>\n      <td>abtree</td>\n      <td>...</td>\n      <td>1</td>\n      <td>1318913</td>\n      <td>5278732</td>\n      <td>97.95</td>\n      <td>4.47</td>\n      <td>1484</td>\n      <td>zyra</td>\n      <td>000005</td>\n      <td>data000005.txt</td>\n      <td>ASAN_OPTIONS=new_delete_type_mismatch=0 LD_PR...</td>\n    </tr>\n    <tr>\n      <th>6</th>\n      <td>7</td>\n      <td>1</td>\n      <td>bin/rundb_YCSB_srivastava_abtree_occ</td>\n      <td>0.1</td>\n      <td>-r0.9 -w0.1</td>\n      <td>10014408</td>\n      <td>18</td>\n      <td>-pin 0-141</td>\n      <td>false</td>\n      <td>occ</td>\n      <td>...</td>\n      <td>1</td>\n      <td>1155217</td>\n      <td>4623820</td>\n      <td>95.26</td>\n      <td>3.75</td>\n      <td>1473</td>\n      <td>zyra</td>\n      <td>000001</td>\n      <td>data000001.txt</td>\n      <td>ASAN_OPTIONS=new_delete_type_mismatch=0 LD_PR...</td>\n    </tr>\n    <tr>\n      <th>7</th>\n      <td>8</td>\n      <td>1</td>\n      <td>bin/rundb_YCSB_srivastava_abtree_occ</td>\n      <td>0.1</td>\n      <td>-r0.9 -w0.1</td>\n      <td>10014408</td>\n      <td>142</td>\n      <td>-pin 0-141</td>\n      <td>false</td>\n      <td>occ</td>\n      <td>...</td>\n      <td>0</td>\n      <td>2573782</td>\n      <td>10289764</td>\n      <td>821.06</td>\n      <td>29.03</td>\n      <td>10461</td>\n      <td>zyra</td>\n      <td>000002</td>\n      <td>data000002.txt</td>\n      <td>ASAN_OPTIONS=new_delete_type_mismatch=0 LD_PR...</td>\n    </tr>\n  </tbody>\n</table>\n<p>8 rows × 27 columns</p>\n</div>"
     },
     "metadata": {}
    }
   ],
   "source": [
    "import sys ; sys.path.append('../../tools/data_framework') ; from run_experiment import *\n",
    "init_for_jupyter('_user_experiment.py')\n",
    "\n",
    "show_html('data/index.html')\n",
    "# display(select_to_dataframe('select * from data'))"
   ]
  },
  {
   "cell_type": "code",
   "execution_count": null,
   "metadata": {},
   "outputs": [],
   "source": []
  },
  {
   "cell_type": "code",
   "execution_count": null,
   "metadata": {},
   "outputs": [],
   "source": [
    "import sys ; sys.path.append('../../tools/data_framework') ; from run_experiment import *\n",
    "init_for_jupyter('_user_experiment.py')\n",
    "\n",
    "shell_to_list('cat data/data000001.txt | grep summary | cut -d\" \" -f2- | tr -d \" \"', sep=',')"
   ]
  },
  {
   "cell_type": "code",
   "execution_count": null,
   "metadata": {},
   "outputs": [],
   "source": []
  },
  {
   "cell_type": "code",
   "execution_count": null,
   "metadata": {
    "tags": []
   },
   "outputs": [],
   "source": [
    "import sys ; sys.path.append('../../tools/data_framework') ; from run_experiment import *\n",
    "disable_tee_stdout()\n",
    "#enable_tee_stdout()\n",
    "do_all('_user_experiment.py -pw'.split(' '))\n",
    "show_html('data/index.html')\n"
   ]
  },
  {
   "cell_type": "code",
   "execution_count": null,
   "metadata": {},
   "outputs": [],
   "source": []
  }
 ],
 "metadata": {
  "language_info": {
   "codemirror_mode": {
    "name": "ipython",
    "version": 3
   },
   "file_extension": ".py",
   "mimetype": "text/x-python",
   "name": "python",
   "nbconvert_exporter": "python",
   "pygments_lexer": "ipython3",
   "version": "3.8.5"
  },
  "orig_nbformat": 2,
  "kernelspec": {
   "name": "python3",
   "display_name": "Python 3.8.5 64-bit"
  },
  "interpreter": {
   "hash": "e7370f93d1d0cde622a1f8e1c04877d8463912d04d973331ad4851f04de6915a"
  }
 },
 "nbformat": 4,
 "nbformat_minor": 2
}